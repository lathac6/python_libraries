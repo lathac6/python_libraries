{
 "cells": [
  {
   "cell_type": "code",
   "execution_count": 1,
   "id": "7879dcf0-6c2a-4b95-b75e-d71760856eee",
   "metadata": {},
   "outputs": [],
   "source": [
    "import pandas as pd"
   ]
  },
  {
   "cell_type": "markdown",
   "id": "41dba381-652a-42d9-9e44-5acdfb751033",
   "metadata": {},
   "source": [
    "# Reading and Writing data:"
   ]
  },
  {
   "cell_type": "markdown",
   "id": "905157b5-a398-491b-a674-23414a0a4780",
   "metadata": {},
   "source": [
    "# Read data from csv file "
   ]
  },
  {
   "cell_type": "code",
   "execution_count": 8,
   "id": "5d433800-12e7-4737-992e-c50f45225ee9",
   "metadata": {},
   "outputs": [
    {
     "data": {
      "text/html": [
       "<div>\n",
       "<style scoped>\n",
       "    .dataframe tbody tr th:only-of-type {\n",
       "        vertical-align: middle;\n",
       "    }\n",
       "\n",
       "    .dataframe tbody tr th {\n",
       "        vertical-align: top;\n",
       "    }\n",
       "\n",
       "    .dataframe thead th {\n",
       "        text-align: right;\n",
       "    }\n",
       "</style>\n",
       "<table border=\"1\" class=\"dataframe\">\n",
       "  <thead>\n",
       "    <tr style=\"text-align: right;\">\n",
       "      <th></th>\n",
       "      <th>&lt;built-in function id&gt;</th>\n",
       "      <th>name</th>\n",
       "      <th>phno</th>\n",
       "    </tr>\n",
       "  </thead>\n",
       "  <tbody>\n",
       "    <tr>\n",
       "      <th>0</th>\n",
       "      <td>101</td>\n",
       "      <td>prasad</td>\n",
       "      <td>961</td>\n",
       "    </tr>\n",
       "  </tbody>\n",
       "</table>\n",
       "</div>"
      ],
      "text/plain": [
       "   <built-in function id>    name  phno\n",
       "0                     101  prasad   961"
      ]
     },
     "execution_count": 8,
     "metadata": {},
     "output_type": "execute_result"
    }
   ],
   "source": [
    "pd.read_csv('readingcsv.csv')"
   ]
  },
  {
   "cell_type": "markdown",
   "id": "3f15a16f-4a13-4c18-a116-1b78377ead5e",
   "metadata": {},
   "source": [
    "# write dataframe to csv file"
   ]
  },
  {
   "cell_type": "code",
   "execution_count": 6,
   "id": "2934265d-2e00-430c-809d-a1795ddd9a7f",
   "metadata": {},
   "outputs": [],
   "source": [
    "data={'name':['divya'],\n",
    "     'age':[21],\n",
    "     'occ':['news reporter']}\n",
    "df=pd.DataFrame(data)\n",
    "df.to_csv('writingcsv.csv',index=False)"
   ]
  },
  {
   "cell_type": "markdown",
   "id": "6c9f0414-9864-4eb2-b553-16fc82072583",
   "metadata": {},
   "source": [
    "# Read data from excel file "
   ]
  },
  {
   "cell_type": "code",
   "execution_count": 10,
   "id": "1cdb27c8-cd96-441e-8ca6-de7c5e20e0c4",
   "metadata": {},
   "outputs": [
    {
     "data": {
      "text/html": [
       "<div>\n",
       "<style scoped>\n",
       "    .dataframe tbody tr th:only-of-type {\n",
       "        vertical-align: middle;\n",
       "    }\n",
       "\n",
       "    .dataframe tbody tr th {\n",
       "        vertical-align: top;\n",
       "    }\n",
       "\n",
       "    .dataframe thead th {\n",
       "        text-align: right;\n",
       "    }\n",
       "</style>\n",
       "<table border=\"1\" class=\"dataframe\">\n",
       "  <thead>\n",
       "    <tr style=\"text-align: right;\">\n",
       "      <th></th>\n",
       "      <th>&lt;built-in function id&gt;</th>\n",
       "      <th>name</th>\n",
       "      <th>phno</th>\n",
       "    </tr>\n",
       "  </thead>\n",
       "  <tbody>\n",
       "    <tr>\n",
       "      <th>0</th>\n",
       "      <td>101</td>\n",
       "      <td>prasad</td>\n",
       "      <td>961</td>\n",
       "    </tr>\n",
       "  </tbody>\n",
       "</table>\n",
       "</div>"
      ],
      "text/plain": [
       "   <built-in function id>    name  phno\n",
       "0                     101  prasad   961"
      ]
     },
     "execution_count": 10,
     "metadata": {},
     "output_type": "execute_result"
    }
   ],
   "source": [
    "pd.read_excel('readingexcel.xlsx')"
   ]
  },
  {
   "cell_type": "markdown",
   "id": "9a055416-8692-4a7b-bc53-95b8ee3b1b82",
   "metadata": {},
   "source": [
    "# write dataframe to excel file"
   ]
  },
  {
   "cell_type": "code",
   "execution_count": 13,
   "id": "03d0802f-6dad-4db1-8bd4-01d117326dfc",
   "metadata": {},
   "outputs": [],
   "source": [
    "data=ocation = {\n",
    "    \"city\": [\"New Delhi\"],\n",
    "    \"latitude\": [28.6139],     \n",
    "    \"longitude\": [77.2090]     \n",
    "}\n",
    "df=pd.DataFrame(data)\n",
    "df.to_excel('writingexcel.xlsx',index=False)"
   ]
  },
  {
   "cell_type": "markdown",
   "id": "95ee49d7-f30b-46ed-a1cf-2cbfef29e3ba",
   "metadata": {},
   "source": [
    "# Exploring data"
   ]
  },
  {
   "cell_type": "markdown",
   "id": "98bbfa97-853d-4ad1-a3e8-ab633bc13c5b",
   "metadata": {},
   "source": [
    "# read 1st n row "
   ]
  },
  {
   "cell_type": "code",
   "execution_count": 15,
   "id": "29afc9ef-1c75-4640-b459-59e209cf6005",
   "metadata": {},
   "outputs": [],
   "source": [
    "students = [\n",
    "    {\"id\": 101, \"first_name\": \"Aarav\",   \"last_name\": \"Singh\",    \"age\": 16, \"grade\": 10, \"GPA\": 8.5, \"extracurricular\": True},\n",
    "    {\"id\": 102, \"first_name\": \"Meera\",   \"last_name\": \"Patel\",    \"age\": 17, \"grade\": 11, \"GPA\": 9.1, \"extracurricular\": False},\n",
    "    {\"id\": 103, \"first_name\": \"Rohan\",   \"last_name\": \"Verma\",    \"age\": 16, \"grade\": 10, \"GPA\": 7.8, \"extracurricular\": True},\n",
    "    {\"id\": 104, \"first_name\": \"Sana\",    \"last_name\": \"Reddy\",    \"age\": 18, \"grade\": 12, \"GPA\": 8.9, \"extracurricular\": True},\n",
    "    {\"id\": 105, \"first_name\": \"Kabir\",   \"last_name\": \"Sharma\",   \"age\": 17, \"grade\": 11, \"GPA\": 8.2, \"extracurricular\": False},\n",
    "    {\"id\": 106, \"first_name\": \"Priya\",   \"last_name\": \"Nair\",     \"age\": 16, \"grade\": 10, \"GPA\": 9.3, \"extracurricular\": True},\n",
    "    {\"id\": 107, \"first_name\": \"Aditya\",  \"last_name\": \"Gupta\",    \"age\": 18, \"grade\": 12, \"GPA\": 7.5, \"extracurricular\": False}\n",
    "]\n",
    "df=pd.DataFrame(students)\n",
    "df.to_csv('stu.csv',index=False)"
   ]
  },
  {
   "cell_type": "code",
   "execution_count": 17,
   "id": "73899216-b12a-49fc-9c97-595d16ae1e69",
   "metadata": {},
   "outputs": [
    {
     "data": {
      "text/html": [
       "<div>\n",
       "<style scoped>\n",
       "    .dataframe tbody tr th:only-of-type {\n",
       "        vertical-align: middle;\n",
       "    }\n",
       "\n",
       "    .dataframe tbody tr th {\n",
       "        vertical-align: top;\n",
       "    }\n",
       "\n",
       "    .dataframe thead th {\n",
       "        text-align: right;\n",
       "    }\n",
       "</style>\n",
       "<table border=\"1\" class=\"dataframe\">\n",
       "  <thead>\n",
       "    <tr style=\"text-align: right;\">\n",
       "      <th></th>\n",
       "      <th>id</th>\n",
       "      <th>first_name</th>\n",
       "      <th>last_name</th>\n",
       "      <th>age</th>\n",
       "      <th>grade</th>\n",
       "      <th>GPA</th>\n",
       "      <th>extracurricular</th>\n",
       "    </tr>\n",
       "  </thead>\n",
       "  <tbody>\n",
       "    <tr>\n",
       "      <th>0</th>\n",
       "      <td>101</td>\n",
       "      <td>Aarav</td>\n",
       "      <td>Singh</td>\n",
       "      <td>16</td>\n",
       "      <td>10</td>\n",
       "      <td>8.5</td>\n",
       "      <td>True</td>\n",
       "    </tr>\n",
       "  </tbody>\n",
       "</table>\n",
       "</div>"
      ],
      "text/plain": [
       "    id first_name last_name  age  grade  GPA  extracurricular\n",
       "0  101      Aarav     Singh   16     10  8.5             True"
      ]
     },
     "execution_count": 17,
     "metadata": {},
     "output_type": "execute_result"
    }
   ],
   "source": [
    "df.head(1)"
   ]
  },
  {
   "cell_type": "markdown",
   "id": "34a3fd73-886e-4b78-8bd4-66e188812a0a",
   "metadata": {},
   "source": [
    "# display the last n rows "
   ]
  },
  {
   "cell_type": "code",
   "execution_count": 18,
   "id": "4ac4a716-ec7d-42e9-a677-47360982c7c9",
   "metadata": {},
   "outputs": [
    {
     "data": {
      "text/html": [
       "<div>\n",
       "<style scoped>\n",
       "    .dataframe tbody tr th:only-of-type {\n",
       "        vertical-align: middle;\n",
       "    }\n",
       "\n",
       "    .dataframe tbody tr th {\n",
       "        vertical-align: top;\n",
       "    }\n",
       "\n",
       "    .dataframe thead th {\n",
       "        text-align: right;\n",
       "    }\n",
       "</style>\n",
       "<table border=\"1\" class=\"dataframe\">\n",
       "  <thead>\n",
       "    <tr style=\"text-align: right;\">\n",
       "      <th></th>\n",
       "      <th>id</th>\n",
       "      <th>first_name</th>\n",
       "      <th>last_name</th>\n",
       "      <th>age</th>\n",
       "      <th>grade</th>\n",
       "      <th>GPA</th>\n",
       "      <th>extracurricular</th>\n",
       "    </tr>\n",
       "  </thead>\n",
       "  <tbody>\n",
       "    <tr>\n",
       "      <th>6</th>\n",
       "      <td>107</td>\n",
       "      <td>Aditya</td>\n",
       "      <td>Gupta</td>\n",
       "      <td>18</td>\n",
       "      <td>12</td>\n",
       "      <td>7.5</td>\n",
       "      <td>False</td>\n",
       "    </tr>\n",
       "  </tbody>\n",
       "</table>\n",
       "</div>"
      ],
      "text/plain": [
       "    id first_name last_name  age  grade  GPA  extracurricular\n",
       "6  107     Aditya     Gupta   18     12  7.5            False"
      ]
     },
     "execution_count": 18,
     "metadata": {},
     "output_type": "execute_result"
    }
   ],
   "source": [
    "df.tail(1)"
   ]
  },
  {
   "cell_type": "markdown",
   "id": "df4ed298-79b9-4140-b7be-1422edf28bc4",
   "metadata": {},
   "source": [
    "# summary statistics "
   ]
  },
  {
   "cell_type": "code",
   "execution_count": 19,
   "id": "5f6d5a28-ee6a-4add-bfd6-0d509d89df79",
   "metadata": {},
   "outputs": [
    {
     "data": {
      "text/html": [
       "<div>\n",
       "<style scoped>\n",
       "    .dataframe tbody tr th:only-of-type {\n",
       "        vertical-align: middle;\n",
       "    }\n",
       "\n",
       "    .dataframe tbody tr th {\n",
       "        vertical-align: top;\n",
       "    }\n",
       "\n",
       "    .dataframe thead th {\n",
       "        text-align: right;\n",
       "    }\n",
       "</style>\n",
       "<table border=\"1\" class=\"dataframe\">\n",
       "  <thead>\n",
       "    <tr style=\"text-align: right;\">\n",
       "      <th></th>\n",
       "      <th>id</th>\n",
       "      <th>age</th>\n",
       "      <th>grade</th>\n",
       "      <th>GPA</th>\n",
       "    </tr>\n",
       "  </thead>\n",
       "  <tbody>\n",
       "    <tr>\n",
       "      <th>count</th>\n",
       "      <td>7.000000</td>\n",
       "      <td>7.000000</td>\n",
       "      <td>7.000000</td>\n",
       "      <td>7.000000</td>\n",
       "    </tr>\n",
       "    <tr>\n",
       "      <th>mean</th>\n",
       "      <td>104.000000</td>\n",
       "      <td>16.857143</td>\n",
       "      <td>10.857143</td>\n",
       "      <td>8.471429</td>\n",
       "    </tr>\n",
       "    <tr>\n",
       "      <th>std</th>\n",
       "      <td>2.160247</td>\n",
       "      <td>0.899735</td>\n",
       "      <td>0.899735</td>\n",
       "      <td>0.675066</td>\n",
       "    </tr>\n",
       "    <tr>\n",
       "      <th>min</th>\n",
       "      <td>101.000000</td>\n",
       "      <td>16.000000</td>\n",
       "      <td>10.000000</td>\n",
       "      <td>7.500000</td>\n",
       "    </tr>\n",
       "    <tr>\n",
       "      <th>25%</th>\n",
       "      <td>102.500000</td>\n",
       "      <td>16.000000</td>\n",
       "      <td>10.000000</td>\n",
       "      <td>8.000000</td>\n",
       "    </tr>\n",
       "    <tr>\n",
       "      <th>50%</th>\n",
       "      <td>104.000000</td>\n",
       "      <td>17.000000</td>\n",
       "      <td>11.000000</td>\n",
       "      <td>8.500000</td>\n",
       "    </tr>\n",
       "    <tr>\n",
       "      <th>75%</th>\n",
       "      <td>105.500000</td>\n",
       "      <td>17.500000</td>\n",
       "      <td>11.500000</td>\n",
       "      <td>9.000000</td>\n",
       "    </tr>\n",
       "    <tr>\n",
       "      <th>max</th>\n",
       "      <td>107.000000</td>\n",
       "      <td>18.000000</td>\n",
       "      <td>12.000000</td>\n",
       "      <td>9.300000</td>\n",
       "    </tr>\n",
       "  </tbody>\n",
       "</table>\n",
       "</div>"
      ],
      "text/plain": [
       "               id        age      grade       GPA\n",
       "count    7.000000   7.000000   7.000000  7.000000\n",
       "mean   104.000000  16.857143  10.857143  8.471429\n",
       "std      2.160247   0.899735   0.899735  0.675066\n",
       "min    101.000000  16.000000  10.000000  7.500000\n",
       "25%    102.500000  16.000000  10.000000  8.000000\n",
       "50%    104.000000  17.000000  11.000000  8.500000\n",
       "75%    105.500000  17.500000  11.500000  9.000000\n",
       "max    107.000000  18.000000  12.000000  9.300000"
      ]
     },
     "execution_count": 19,
     "metadata": {},
     "output_type": "execute_result"
    }
   ],
   "source": [
    "df .describe()"
   ]
  },
  {
   "cell_type": "markdown",
   "id": "f58f9aa2-01e1-413c-841e-4998997cf5bd",
   "metadata": {},
   "source": [
    "# info about dataframes "
   ]
  },
  {
   "cell_type": "code",
   "execution_count": 20,
   "id": "491f8583-146a-44be-8311-55ab7173c794",
   "metadata": {},
   "outputs": [
    {
     "name": "stdout",
     "output_type": "stream",
     "text": [
      "<class 'pandas.core.frame.DataFrame'>\n",
      "RangeIndex: 7 entries, 0 to 6\n",
      "Data columns (total 7 columns):\n",
      " #   Column           Non-Null Count  Dtype  \n",
      "---  ------           --------------  -----  \n",
      " 0   id               7 non-null      int64  \n",
      " 1   first_name       7 non-null      object \n",
      " 2   last_name        7 non-null      object \n",
      " 3   age              7 non-null      int64  \n",
      " 4   grade            7 non-null      int64  \n",
      " 5   GPA              7 non-null      float64\n",
      " 6   extracurricular  7 non-null      bool   \n",
      "dtypes: bool(1), float64(1), int64(3), object(2)\n",
      "memory usage: 475.0+ bytes\n"
     ]
    }
   ],
   "source": [
    "df.info()"
   ]
  },
  {
   "cell_type": "markdown",
   "id": "eb4bfb97-1ac9-4193-9b07-525677d99137",
   "metadata": {},
   "source": [
    "# shape"
   ]
  },
  {
   "cell_type": "code",
   "execution_count": 94,
   "id": "45ca6d5d-4bfe-4237-a757-5427a827db35",
   "metadata": {},
   "outputs": [
    {
     "data": {
      "text/plain": [
       "(7, 7)"
      ]
     },
     "execution_count": 94,
     "metadata": {},
     "output_type": "execute_result"
    }
   ],
   "source": [
    "df.shape"
   ]
  },
  {
   "cell_type": "markdown",
   "id": "15fe2ee4-b4ea-4031-b8a8-e9d7bc36b11b",
   "metadata": {},
   "source": [
    "# dtype"
   ]
  },
  {
   "cell_type": "code",
   "execution_count": 95,
   "id": "11a8e4d3-6469-4d2f-a177-761a18984515",
   "metadata": {},
   "outputs": [
    {
     "data": {
      "text/plain": [
       "id                   int64\n",
       "first_name          object\n",
       "last_name           object\n",
       "age                  int64\n",
       "grade                int64\n",
       "GPA                float64\n",
       "extracurricular       bool\n",
       "dtype: object"
      ]
     },
     "execution_count": 95,
     "metadata": {},
     "output_type": "execute_result"
    }
   ],
   "source": [
    "df.dtypes"
   ]
  },
  {
   "cell_type": "markdown",
   "id": "7c83ce39-c4fa-4d22-b3e8-b6ec94f5a78d",
   "metadata": {},
   "source": [
    "# unique values in a column "
   ]
  },
  {
   "cell_type": "code",
   "execution_count": 21,
   "id": "763a928e-e8df-4d53-a98f-b1985223411e",
   "metadata": {},
   "outputs": [
    {
     "data": {
      "text/plain": [
       "array([8.5, 9.1, 7.8, 8.9, 8.2, 9.3, 7.5])"
      ]
     },
     "execution_count": 21,
     "metadata": {},
     "output_type": "execute_result"
    }
   ],
   "source": [
    "df['GPA'].unique()"
   ]
  },
  {
   "cell_type": "markdown",
   "id": "cc75da8b-9e20-4c34-b359-8f74ef2d1832",
   "metadata": {},
   "source": [
    "# no of unique values in a column"
   ]
  },
  {
   "cell_type": "code",
   "execution_count": 22,
   "id": "c49320fe-c923-4282-a69c-dae0b05ab449",
   "metadata": {},
   "outputs": [
    {
     "data": {
      "text/plain": [
       "7"
      ]
     },
     "execution_count": 22,
     "metadata": {},
     "output_type": "execute_result"
    }
   ],
   "source": [
    "df['GPA'].nunique()"
   ]
  },
  {
   "cell_type": "markdown",
   "id": "9871bcdb-1342-4c23-8fea-89cda35dacf5",
   "metadata": {},
   "source": [
    "# count occurrance of each unique values "
   ]
  },
  {
   "cell_type": "code",
   "execution_count": 23,
   "id": "f9c47586-36e6-4497-a862-930958638362",
   "metadata": {},
   "outputs": [
    {
     "data": {
      "text/plain": [
       "GPA\n",
       "8.5    1\n",
       "9.1    1\n",
       "7.8    1\n",
       "8.9    1\n",
       "8.2    1\n",
       "9.3    1\n",
       "7.5    1\n",
       "Name: count, dtype: int64"
      ]
     },
     "execution_count": 23,
     "metadata": {},
     "output_type": "execute_result"
    }
   ],
   "source": [
    "df['GPA'].value_counts()"
   ]
  },
  {
   "cell_type": "markdown",
   "id": "4d09e985-020b-48ec-a753-b01f9ec28504",
   "metadata": {},
   "source": [
    "# Data selection and filtering"
   ]
  },
  {
   "cell_type": "markdown",
   "id": "9022d582-c7bb-4154-906e-06860d497f96",
   "metadata": {},
   "source": [
    "# selecting the single column"
   ]
  },
  {
   "cell_type": "code",
   "execution_count": 24,
   "id": "3ce22c63-b1fe-4492-9607-f05f216b3c4b",
   "metadata": {},
   "outputs": [
    {
     "data": {
      "text/plain": [
       "0    8.5\n",
       "1    9.1\n",
       "2    7.8\n",
       "3    8.9\n",
       "4    8.2\n",
       "5    9.3\n",
       "6    7.5\n",
       "Name: GPA, dtype: float64"
      ]
     },
     "execution_count": 24,
     "metadata": {},
     "output_type": "execute_result"
    }
   ],
   "source": [
    "df['GPA']"
   ]
  },
  {
   "cell_type": "markdown",
   "id": "7c4de236-ed1a-423d-bd42-d0f8e30b9d19",
   "metadata": {},
   "source": [
    "# selecing multiple columns"
   ]
  },
  {
   "cell_type": "code",
   "execution_count": 26,
   "id": "3db1952c-94f0-4a79-b8da-f194e154ea57",
   "metadata": {},
   "outputs": [
    {
     "data": {
      "text/html": [
       "<div>\n",
       "<style scoped>\n",
       "    .dataframe tbody tr th:only-of-type {\n",
       "        vertical-align: middle;\n",
       "    }\n",
       "\n",
       "    .dataframe tbody tr th {\n",
       "        vertical-align: top;\n",
       "    }\n",
       "\n",
       "    .dataframe thead th {\n",
       "        text-align: right;\n",
       "    }\n",
       "</style>\n",
       "<table border=\"1\" class=\"dataframe\">\n",
       "  <thead>\n",
       "    <tr style=\"text-align: right;\">\n",
       "      <th></th>\n",
       "      <th>GPA</th>\n",
       "      <th>grade</th>\n",
       "    </tr>\n",
       "  </thead>\n",
       "  <tbody>\n",
       "    <tr>\n",
       "      <th>0</th>\n",
       "      <td>8.5</td>\n",
       "      <td>10</td>\n",
       "    </tr>\n",
       "    <tr>\n",
       "      <th>1</th>\n",
       "      <td>9.1</td>\n",
       "      <td>11</td>\n",
       "    </tr>\n",
       "    <tr>\n",
       "      <th>2</th>\n",
       "      <td>7.8</td>\n",
       "      <td>10</td>\n",
       "    </tr>\n",
       "    <tr>\n",
       "      <th>3</th>\n",
       "      <td>8.9</td>\n",
       "      <td>12</td>\n",
       "    </tr>\n",
       "    <tr>\n",
       "      <th>4</th>\n",
       "      <td>8.2</td>\n",
       "      <td>11</td>\n",
       "    </tr>\n",
       "    <tr>\n",
       "      <th>5</th>\n",
       "      <td>9.3</td>\n",
       "      <td>10</td>\n",
       "    </tr>\n",
       "    <tr>\n",
       "      <th>6</th>\n",
       "      <td>7.5</td>\n",
       "      <td>12</td>\n",
       "    </tr>\n",
       "  </tbody>\n",
       "</table>\n",
       "</div>"
      ],
      "text/plain": [
       "   GPA  grade\n",
       "0  8.5     10\n",
       "1  9.1     11\n",
       "2  7.8     10\n",
       "3  8.9     12\n",
       "4  8.2     11\n",
       "5  9.3     10\n",
       "6  7.5     12"
      ]
     },
     "execution_count": 26,
     "metadata": {},
     "output_type": "execute_result"
    }
   ],
   "source": [
    "df[['GPA','grade']]"
   ]
  },
  {
   "cell_type": "markdown",
   "id": "d36bbc0e-4ae7-4188-9f09-bc7d6f4339b9",
   "metadata": {},
   "source": [
    "# filtering row based on condition"
   ]
  },
  {
   "cell_type": "code",
   "execution_count": 34,
   "id": "15b2ecb4-e96c-4669-80e8-54f134b749cc",
   "metadata": {},
   "outputs": [
    {
     "data": {
      "text/html": [
       "<div>\n",
       "<style scoped>\n",
       "    .dataframe tbody tr th:only-of-type {\n",
       "        vertical-align: middle;\n",
       "    }\n",
       "\n",
       "    .dataframe tbody tr th {\n",
       "        vertical-align: top;\n",
       "    }\n",
       "\n",
       "    .dataframe thead th {\n",
       "        text-align: right;\n",
       "    }\n",
       "</style>\n",
       "<table border=\"1\" class=\"dataframe\">\n",
       "  <thead>\n",
       "    <tr style=\"text-align: right;\">\n",
       "      <th></th>\n",
       "      <th>id</th>\n",
       "      <th>first_name</th>\n",
       "      <th>last_name</th>\n",
       "      <th>age</th>\n",
       "      <th>grade</th>\n",
       "      <th>GPA</th>\n",
       "      <th>extracurricular</th>\n",
       "    </tr>\n",
       "  </thead>\n",
       "  <tbody>\n",
       "    <tr>\n",
       "      <th>2</th>\n",
       "      <td>103</td>\n",
       "      <td>Rohan</td>\n",
       "      <td>Verma</td>\n",
       "      <td>16</td>\n",
       "      <td>10</td>\n",
       "      <td>7.8</td>\n",
       "      <td>True</td>\n",
       "    </tr>\n",
       "    <tr>\n",
       "      <th>6</th>\n",
       "      <td>107</td>\n",
       "      <td>Aditya</td>\n",
       "      <td>Gupta</td>\n",
       "      <td>18</td>\n",
       "      <td>12</td>\n",
       "      <td>7.5</td>\n",
       "      <td>False</td>\n",
       "    </tr>\n",
       "  </tbody>\n",
       "</table>\n",
       "</div>"
      ],
      "text/plain": [
       "    id first_name last_name  age  grade  GPA  extracurricular\n",
       "2  103      Rohan     Verma   16     10  7.8             True\n",
       "6  107     Aditya     Gupta   18     12  7.5            False"
      ]
     },
     "execution_count": 34,
     "metadata": {},
     "output_type": "execute_result"
    }
   ],
   "source": [
    "df[df['GPA']<8]"
   ]
  },
  {
   "cell_type": "markdown",
   "id": "696f5d28-19a0-41b9-92af-d9b90fda8460",
   "metadata": {},
   "source": [
    "# filtering multiple conditons"
   ]
  },
  {
   "cell_type": "code",
   "execution_count": 38,
   "id": "c8a9cb2b-c6d1-46f6-b31d-1889e416a9ab",
   "metadata": {},
   "outputs": [
    {
     "data": {
      "text/html": [
       "<div>\n",
       "<style scoped>\n",
       "    .dataframe tbody tr th:only-of-type {\n",
       "        vertical-align: middle;\n",
       "    }\n",
       "\n",
       "    .dataframe tbody tr th {\n",
       "        vertical-align: top;\n",
       "    }\n",
       "\n",
       "    .dataframe thead th {\n",
       "        text-align: right;\n",
       "    }\n",
       "</style>\n",
       "<table border=\"1\" class=\"dataframe\">\n",
       "  <thead>\n",
       "    <tr style=\"text-align: right;\">\n",
       "      <th></th>\n",
       "      <th>id</th>\n",
       "      <th>first_name</th>\n",
       "      <th>last_name</th>\n",
       "      <th>age</th>\n",
       "      <th>grade</th>\n",
       "      <th>GPA</th>\n",
       "      <th>extracurricular</th>\n",
       "    </tr>\n",
       "  </thead>\n",
       "  <tbody>\n",
       "    <tr>\n",
       "      <th>2</th>\n",
       "      <td>103</td>\n",
       "      <td>Rohan</td>\n",
       "      <td>Verma</td>\n",
       "      <td>16</td>\n",
       "      <td>10</td>\n",
       "      <td>7.8</td>\n",
       "      <td>True</td>\n",
       "    </tr>\n",
       "    <tr>\n",
       "      <th>6</th>\n",
       "      <td>107</td>\n",
       "      <td>Aditya</td>\n",
       "      <td>Gupta</td>\n",
       "      <td>18</td>\n",
       "      <td>12</td>\n",
       "      <td>7.5</td>\n",
       "      <td>False</td>\n",
       "    </tr>\n",
       "  </tbody>\n",
       "</table>\n",
       "</div>"
      ],
      "text/plain": [
       "    id first_name last_name  age  grade  GPA  extracurricular\n",
       "2  103      Rohan     Verma   16     10  7.8             True\n",
       "6  107     Aditya     Gupta   18     12  7.5            False"
      ]
     },
     "execution_count": 38,
     "metadata": {},
     "output_type": "execute_result"
    }
   ],
   "source": [
    "df[(df['GPA']>7)& (df['GPA']<8)]"
   ]
  },
  {
   "cell_type": "markdown",
   "id": "4776b207-7ce3-400d-98a4-6dd76fc90f02",
   "metadata": {},
   "source": [
    "# uisng isin() for filtering "
   ]
  },
  {
   "cell_type": "code",
   "execution_count": 41,
   "id": "ce86ce84-728e-4b1a-a9c6-d5bb2ff6a0bd",
   "metadata": {},
   "outputs": [
    {
     "data": {
      "text/html": [
       "<div>\n",
       "<style scoped>\n",
       "    .dataframe tbody tr th:only-of-type {\n",
       "        vertical-align: middle;\n",
       "    }\n",
       "\n",
       "    .dataframe tbody tr th {\n",
       "        vertical-align: top;\n",
       "    }\n",
       "\n",
       "    .dataframe thead th {\n",
       "        text-align: right;\n",
       "    }\n",
       "</style>\n",
       "<table border=\"1\" class=\"dataframe\">\n",
       "  <thead>\n",
       "    <tr style=\"text-align: right;\">\n",
       "      <th></th>\n",
       "      <th>id</th>\n",
       "      <th>first_name</th>\n",
       "      <th>last_name</th>\n",
       "      <th>age</th>\n",
       "      <th>grade</th>\n",
       "      <th>GPA</th>\n",
       "      <th>extracurricular</th>\n",
       "    </tr>\n",
       "  </thead>\n",
       "  <tbody>\n",
       "    <tr>\n",
       "      <th>2</th>\n",
       "      <td>103</td>\n",
       "      <td>Rohan</td>\n",
       "      <td>Verma</td>\n",
       "      <td>16</td>\n",
       "      <td>10</td>\n",
       "      <td>7.8</td>\n",
       "      <td>True</td>\n",
       "    </tr>\n",
       "    <tr>\n",
       "      <th>6</th>\n",
       "      <td>107</td>\n",
       "      <td>Aditya</td>\n",
       "      <td>Gupta</td>\n",
       "      <td>18</td>\n",
       "      <td>12</td>\n",
       "      <td>7.5</td>\n",
       "      <td>False</td>\n",
       "    </tr>\n",
       "  </tbody>\n",
       "</table>\n",
       "</div>"
      ],
      "text/plain": [
       "    id first_name last_name  age  grade  GPA  extracurricular\n",
       "2  103      Rohan     Verma   16     10  7.8             True\n",
       "6  107     Aditya     Gupta   18     12  7.5            False"
      ]
     },
     "execution_count": 41,
     "metadata": {},
     "output_type": "execute_result"
    }
   ],
   "source": [
    "df[df['GPA'].isin([7.8,7.5])]"
   ]
  },
  {
   "cell_type": "markdown",
   "id": "5084e71c-9aa4-4f6c-9840-e8877b7f6cc2",
   "metadata": {},
   "source": [
    "# Handling missing data "
   ]
  },
  {
   "cell_type": "markdown",
   "id": "70566d10-e8f0-418a-9575-b9bda2f7cc31",
   "metadata": {},
   "source": [
    "# check for missing values "
   ]
  },
  {
   "cell_type": "code",
   "execution_count": 42,
   "id": "e4649e26-7ced-4bc8-95b5-a4cefd78f005",
   "metadata": {},
   "outputs": [
    {
     "data": {
      "text/html": [
       "<div>\n",
       "<style scoped>\n",
       "    .dataframe tbody tr th:only-of-type {\n",
       "        vertical-align: middle;\n",
       "    }\n",
       "\n",
       "    .dataframe tbody tr th {\n",
       "        vertical-align: top;\n",
       "    }\n",
       "\n",
       "    .dataframe thead th {\n",
       "        text-align: right;\n",
       "    }\n",
       "</style>\n",
       "<table border=\"1\" class=\"dataframe\">\n",
       "  <thead>\n",
       "    <tr style=\"text-align: right;\">\n",
       "      <th></th>\n",
       "      <th>id</th>\n",
       "      <th>first_name</th>\n",
       "      <th>last_name</th>\n",
       "      <th>age</th>\n",
       "      <th>grade</th>\n",
       "      <th>GPA</th>\n",
       "      <th>extracurricular</th>\n",
       "    </tr>\n",
       "  </thead>\n",
       "  <tbody>\n",
       "    <tr>\n",
       "      <th>0</th>\n",
       "      <td>False</td>\n",
       "      <td>False</td>\n",
       "      <td>False</td>\n",
       "      <td>False</td>\n",
       "      <td>False</td>\n",
       "      <td>False</td>\n",
       "      <td>False</td>\n",
       "    </tr>\n",
       "    <tr>\n",
       "      <th>1</th>\n",
       "      <td>False</td>\n",
       "      <td>False</td>\n",
       "      <td>False</td>\n",
       "      <td>False</td>\n",
       "      <td>False</td>\n",
       "      <td>False</td>\n",
       "      <td>False</td>\n",
       "    </tr>\n",
       "    <tr>\n",
       "      <th>2</th>\n",
       "      <td>False</td>\n",
       "      <td>False</td>\n",
       "      <td>False</td>\n",
       "      <td>False</td>\n",
       "      <td>False</td>\n",
       "      <td>False</td>\n",
       "      <td>False</td>\n",
       "    </tr>\n",
       "    <tr>\n",
       "      <th>3</th>\n",
       "      <td>False</td>\n",
       "      <td>False</td>\n",
       "      <td>False</td>\n",
       "      <td>False</td>\n",
       "      <td>False</td>\n",
       "      <td>False</td>\n",
       "      <td>False</td>\n",
       "    </tr>\n",
       "    <tr>\n",
       "      <th>4</th>\n",
       "      <td>False</td>\n",
       "      <td>False</td>\n",
       "      <td>False</td>\n",
       "      <td>False</td>\n",
       "      <td>False</td>\n",
       "      <td>False</td>\n",
       "      <td>False</td>\n",
       "    </tr>\n",
       "    <tr>\n",
       "      <th>5</th>\n",
       "      <td>False</td>\n",
       "      <td>False</td>\n",
       "      <td>False</td>\n",
       "      <td>False</td>\n",
       "      <td>False</td>\n",
       "      <td>False</td>\n",
       "      <td>False</td>\n",
       "    </tr>\n",
       "    <tr>\n",
       "      <th>6</th>\n",
       "      <td>False</td>\n",
       "      <td>False</td>\n",
       "      <td>False</td>\n",
       "      <td>False</td>\n",
       "      <td>False</td>\n",
       "      <td>False</td>\n",
       "      <td>False</td>\n",
       "    </tr>\n",
       "  </tbody>\n",
       "</table>\n",
       "</div>"
      ],
      "text/plain": [
       "      id  first_name  last_name    age  grade    GPA  extracurricular\n",
       "0  False       False      False  False  False  False            False\n",
       "1  False       False      False  False  False  False            False\n",
       "2  False       False      False  False  False  False            False\n",
       "3  False       False      False  False  False  False            False\n",
       "4  False       False      False  False  False  False            False\n",
       "5  False       False      False  False  False  False            False\n",
       "6  False       False      False  False  False  False            False"
      ]
     },
     "execution_count": 42,
     "metadata": {},
     "output_type": "execute_result"
    }
   ],
   "source": [
    "df.isnull()"
   ]
  },
  {
   "cell_type": "markdown",
   "id": "f2a4887f-a6ae-4f3c-9d86-c06c25eae8c0",
   "metadata": {},
   "source": [
    "# drop rows with any  missing values "
   ]
  },
  {
   "cell_type": "code",
   "execution_count": 43,
   "id": "2ce04e1f-c5b6-4799-929d-f5f9d38fe679",
   "metadata": {},
   "outputs": [
    {
     "data": {
      "text/html": [
       "<div>\n",
       "<style scoped>\n",
       "    .dataframe tbody tr th:only-of-type {\n",
       "        vertical-align: middle;\n",
       "    }\n",
       "\n",
       "    .dataframe tbody tr th {\n",
       "        vertical-align: top;\n",
       "    }\n",
       "\n",
       "    .dataframe thead th {\n",
       "        text-align: right;\n",
       "    }\n",
       "</style>\n",
       "<table border=\"1\" class=\"dataframe\">\n",
       "  <thead>\n",
       "    <tr style=\"text-align: right;\">\n",
       "      <th></th>\n",
       "      <th>id</th>\n",
       "      <th>first_name</th>\n",
       "      <th>last_name</th>\n",
       "      <th>age</th>\n",
       "      <th>grade</th>\n",
       "      <th>GPA</th>\n",
       "      <th>extracurricular</th>\n",
       "    </tr>\n",
       "  </thead>\n",
       "  <tbody>\n",
       "    <tr>\n",
       "      <th>0</th>\n",
       "      <td>101</td>\n",
       "      <td>Aarav</td>\n",
       "      <td>Singh</td>\n",
       "      <td>16</td>\n",
       "      <td>10</td>\n",
       "      <td>8.5</td>\n",
       "      <td>True</td>\n",
       "    </tr>\n",
       "    <tr>\n",
       "      <th>1</th>\n",
       "      <td>102</td>\n",
       "      <td>Meera</td>\n",
       "      <td>Patel</td>\n",
       "      <td>17</td>\n",
       "      <td>11</td>\n",
       "      <td>9.1</td>\n",
       "      <td>False</td>\n",
       "    </tr>\n",
       "    <tr>\n",
       "      <th>2</th>\n",
       "      <td>103</td>\n",
       "      <td>Rohan</td>\n",
       "      <td>Verma</td>\n",
       "      <td>16</td>\n",
       "      <td>10</td>\n",
       "      <td>7.8</td>\n",
       "      <td>True</td>\n",
       "    </tr>\n",
       "    <tr>\n",
       "      <th>3</th>\n",
       "      <td>104</td>\n",
       "      <td>Sana</td>\n",
       "      <td>Reddy</td>\n",
       "      <td>18</td>\n",
       "      <td>12</td>\n",
       "      <td>8.9</td>\n",
       "      <td>True</td>\n",
       "    </tr>\n",
       "    <tr>\n",
       "      <th>4</th>\n",
       "      <td>105</td>\n",
       "      <td>Kabir</td>\n",
       "      <td>Sharma</td>\n",
       "      <td>17</td>\n",
       "      <td>11</td>\n",
       "      <td>8.2</td>\n",
       "      <td>False</td>\n",
       "    </tr>\n",
       "    <tr>\n",
       "      <th>5</th>\n",
       "      <td>106</td>\n",
       "      <td>Priya</td>\n",
       "      <td>Nair</td>\n",
       "      <td>16</td>\n",
       "      <td>10</td>\n",
       "      <td>9.3</td>\n",
       "      <td>True</td>\n",
       "    </tr>\n",
       "    <tr>\n",
       "      <th>6</th>\n",
       "      <td>107</td>\n",
       "      <td>Aditya</td>\n",
       "      <td>Gupta</td>\n",
       "      <td>18</td>\n",
       "      <td>12</td>\n",
       "      <td>7.5</td>\n",
       "      <td>False</td>\n",
       "    </tr>\n",
       "  </tbody>\n",
       "</table>\n",
       "</div>"
      ],
      "text/plain": [
       "    id first_name last_name  age  grade  GPA  extracurricular\n",
       "0  101      Aarav     Singh   16     10  8.5             True\n",
       "1  102      Meera     Patel   17     11  9.1            False\n",
       "2  103      Rohan     Verma   16     10  7.8             True\n",
       "3  104       Sana     Reddy   18     12  8.9             True\n",
       "4  105      Kabir    Sharma   17     11  8.2            False\n",
       "5  106      Priya      Nair   16     10  9.3             True\n",
       "6  107     Aditya     Gupta   18     12  7.5            False"
      ]
     },
     "execution_count": 43,
     "metadata": {},
     "output_type": "execute_result"
    }
   ],
   "source": [
    "df.dropna()"
   ]
  },
  {
   "cell_type": "markdown",
   "id": "bf99f617-bf36-4535-8acd-082acf30edd2",
   "metadata": {},
   "source": [
    "# fill missing values with a specific value"
   ]
  },
  {
   "cell_type": "code",
   "execution_count": 44,
   "id": "1b1c85a3-9e27-4d85-93ed-9d471394fecb",
   "metadata": {},
   "outputs": [
    {
     "data": {
      "text/html": [
       "<div>\n",
       "<style scoped>\n",
       "    .dataframe tbody tr th:only-of-type {\n",
       "        vertical-align: middle;\n",
       "    }\n",
       "\n",
       "    .dataframe tbody tr th {\n",
       "        vertical-align: top;\n",
       "    }\n",
       "\n",
       "    .dataframe thead th {\n",
       "        text-align: right;\n",
       "    }\n",
       "</style>\n",
       "<table border=\"1\" class=\"dataframe\">\n",
       "  <thead>\n",
       "    <tr style=\"text-align: right;\">\n",
       "      <th></th>\n",
       "      <th>id</th>\n",
       "      <th>first_name</th>\n",
       "      <th>last_name</th>\n",
       "      <th>age</th>\n",
       "      <th>grade</th>\n",
       "      <th>GPA</th>\n",
       "      <th>extracurricular</th>\n",
       "    </tr>\n",
       "  </thead>\n",
       "  <tbody>\n",
       "    <tr>\n",
       "      <th>0</th>\n",
       "      <td>101</td>\n",
       "      <td>Aarav</td>\n",
       "      <td>Singh</td>\n",
       "      <td>16</td>\n",
       "      <td>10</td>\n",
       "      <td>8.5</td>\n",
       "      <td>True</td>\n",
       "    </tr>\n",
       "    <tr>\n",
       "      <th>1</th>\n",
       "      <td>102</td>\n",
       "      <td>Meera</td>\n",
       "      <td>Patel</td>\n",
       "      <td>17</td>\n",
       "      <td>11</td>\n",
       "      <td>9.1</td>\n",
       "      <td>False</td>\n",
       "    </tr>\n",
       "    <tr>\n",
       "      <th>2</th>\n",
       "      <td>103</td>\n",
       "      <td>Rohan</td>\n",
       "      <td>Verma</td>\n",
       "      <td>16</td>\n",
       "      <td>10</td>\n",
       "      <td>7.8</td>\n",
       "      <td>True</td>\n",
       "    </tr>\n",
       "    <tr>\n",
       "      <th>3</th>\n",
       "      <td>104</td>\n",
       "      <td>Sana</td>\n",
       "      <td>Reddy</td>\n",
       "      <td>18</td>\n",
       "      <td>12</td>\n",
       "      <td>8.9</td>\n",
       "      <td>True</td>\n",
       "    </tr>\n",
       "    <tr>\n",
       "      <th>4</th>\n",
       "      <td>105</td>\n",
       "      <td>Kabir</td>\n",
       "      <td>Sharma</td>\n",
       "      <td>17</td>\n",
       "      <td>11</td>\n",
       "      <td>8.2</td>\n",
       "      <td>False</td>\n",
       "    </tr>\n",
       "    <tr>\n",
       "      <th>5</th>\n",
       "      <td>106</td>\n",
       "      <td>Priya</td>\n",
       "      <td>Nair</td>\n",
       "      <td>16</td>\n",
       "      <td>10</td>\n",
       "      <td>9.3</td>\n",
       "      <td>True</td>\n",
       "    </tr>\n",
       "    <tr>\n",
       "      <th>6</th>\n",
       "      <td>107</td>\n",
       "      <td>Aditya</td>\n",
       "      <td>Gupta</td>\n",
       "      <td>18</td>\n",
       "      <td>12</td>\n",
       "      <td>7.5</td>\n",
       "      <td>False</td>\n",
       "    </tr>\n",
       "  </tbody>\n",
       "</table>\n",
       "</div>"
      ],
      "text/plain": [
       "    id first_name last_name  age  grade  GPA  extracurricular\n",
       "0  101      Aarav     Singh   16     10  8.5             True\n",
       "1  102      Meera     Patel   17     11  9.1            False\n",
       "2  103      Rohan     Verma   16     10  7.8             True\n",
       "3  104       Sana     Reddy   18     12  8.9             True\n",
       "4  105      Kabir    Sharma   17     11  8.2            False\n",
       "5  106      Priya      Nair   16     10  9.3             True\n",
       "6  107     Aditya     Gupta   18     12  7.5            False"
      ]
     },
     "execution_count": 44,
     "metadata": {},
     "output_type": "execute_result"
    }
   ],
   "source": [
    "df.fillna(10)"
   ]
  },
  {
   "cell_type": "markdown",
   "id": "f4b9632c-8627-4481-bce0-692285b5680b",
   "metadata": {},
   "source": [
    "# check duplictes row"
   ]
  },
  {
   "cell_type": "code",
   "execution_count": 96,
   "id": "4325e806-a573-4eef-87e4-356295ca4d6e",
   "metadata": {},
   "outputs": [
    {
     "data": {
      "text/plain": [
       "date\n",
       "1970-01-01 00:00:00.000000016    False\n",
       "1970-01-01 00:00:00.000000017    False\n",
       "1970-01-01 00:00:00.000000016    False\n",
       "1970-01-01 00:00:00.000000018    False\n",
       "1970-01-01 00:00:00.000000017    False\n",
       "1970-01-01 00:00:00.000000016    False\n",
       "1970-01-01 00:00:00.000000018    False\n",
       "dtype: bool"
      ]
     },
     "execution_count": 96,
     "metadata": {},
     "output_type": "execute_result"
    }
   ],
   "source": [
    "df.duplicated()"
   ]
  },
  {
   "cell_type": "markdown",
   "id": "3278adfe-3dd1-4b82-b42b-d2761658f72e",
   "metadata": {},
   "source": [
    "# drop duplicates"
   ]
  },
  {
   "cell_type": "code",
   "execution_count": 97,
   "id": "6efc5a0e-cf17-42b4-8c85-48aea3c01054",
   "metadata": {},
   "outputs": [
    {
     "data": {
      "text/html": [
       "<div>\n",
       "<style scoped>\n",
       "    .dataframe tbody tr th:only-of-type {\n",
       "        vertical-align: middle;\n",
       "    }\n",
       "\n",
       "    .dataframe tbody tr th {\n",
       "        vertical-align: top;\n",
       "    }\n",
       "\n",
       "    .dataframe thead th {\n",
       "        text-align: right;\n",
       "    }\n",
       "</style>\n",
       "<table border=\"1\" class=\"dataframe\">\n",
       "  <thead>\n",
       "    <tr style=\"text-align: right;\">\n",
       "      <th></th>\n",
       "      <th>id</th>\n",
       "      <th>first_name</th>\n",
       "      <th>last_name</th>\n",
       "      <th>age</th>\n",
       "      <th>grade</th>\n",
       "      <th>GPA</th>\n",
       "      <th>extracurricular</th>\n",
       "    </tr>\n",
       "    <tr>\n",
       "      <th>date</th>\n",
       "      <th></th>\n",
       "      <th></th>\n",
       "      <th></th>\n",
       "      <th></th>\n",
       "      <th></th>\n",
       "      <th></th>\n",
       "      <th></th>\n",
       "    </tr>\n",
       "  </thead>\n",
       "  <tbody>\n",
       "    <tr>\n",
       "      <th>1970-01-01 00:00:00.000000016</th>\n",
       "      <td>101</td>\n",
       "      <td>Aarav</td>\n",
       "      <td>Singh</td>\n",
       "      <td>16</td>\n",
       "      <td>10</td>\n",
       "      <td>8.5</td>\n",
       "      <td>True</td>\n",
       "    </tr>\n",
       "    <tr>\n",
       "      <th>1970-01-01 00:00:00.000000017</th>\n",
       "      <td>102</td>\n",
       "      <td>Meera</td>\n",
       "      <td>Patel</td>\n",
       "      <td>17</td>\n",
       "      <td>11</td>\n",
       "      <td>9.1</td>\n",
       "      <td>False</td>\n",
       "    </tr>\n",
       "    <tr>\n",
       "      <th>1970-01-01 00:00:00.000000016</th>\n",
       "      <td>103</td>\n",
       "      <td>Rohan</td>\n",
       "      <td>Verma</td>\n",
       "      <td>16</td>\n",
       "      <td>10</td>\n",
       "      <td>7.8</td>\n",
       "      <td>True</td>\n",
       "    </tr>\n",
       "    <tr>\n",
       "      <th>1970-01-01 00:00:00.000000018</th>\n",
       "      <td>104</td>\n",
       "      <td>Sana</td>\n",
       "      <td>Reddy</td>\n",
       "      <td>18</td>\n",
       "      <td>12</td>\n",
       "      <td>8.9</td>\n",
       "      <td>True</td>\n",
       "    </tr>\n",
       "    <tr>\n",
       "      <th>1970-01-01 00:00:00.000000017</th>\n",
       "      <td>105</td>\n",
       "      <td>Kabir</td>\n",
       "      <td>Sharma</td>\n",
       "      <td>17</td>\n",
       "      <td>11</td>\n",
       "      <td>8.2</td>\n",
       "      <td>False</td>\n",
       "    </tr>\n",
       "    <tr>\n",
       "      <th>1970-01-01 00:00:00.000000016</th>\n",
       "      <td>106</td>\n",
       "      <td>Priya</td>\n",
       "      <td>Nair</td>\n",
       "      <td>16</td>\n",
       "      <td>10</td>\n",
       "      <td>9.3</td>\n",
       "      <td>True</td>\n",
       "    </tr>\n",
       "    <tr>\n",
       "      <th>1970-01-01 00:00:00.000000018</th>\n",
       "      <td>107</td>\n",
       "      <td>Aditya</td>\n",
       "      <td>Gupta</td>\n",
       "      <td>18</td>\n",
       "      <td>12</td>\n",
       "      <td>7.5</td>\n",
       "      <td>False</td>\n",
       "    </tr>\n",
       "  </tbody>\n",
       "</table>\n",
       "</div>"
      ],
      "text/plain": [
       "                                id first_name last_name  age  grade  GPA  \\\n",
       "date                                                                       \n",
       "1970-01-01 00:00:00.000000016  101      Aarav     Singh   16     10  8.5   \n",
       "1970-01-01 00:00:00.000000017  102      Meera     Patel   17     11  9.1   \n",
       "1970-01-01 00:00:00.000000016  103      Rohan     Verma   16     10  7.8   \n",
       "1970-01-01 00:00:00.000000018  104       Sana     Reddy   18     12  8.9   \n",
       "1970-01-01 00:00:00.000000017  105      Kabir    Sharma   17     11  8.2   \n",
       "1970-01-01 00:00:00.000000016  106      Priya      Nair   16     10  9.3   \n",
       "1970-01-01 00:00:00.000000018  107     Aditya     Gupta   18     12  7.5   \n",
       "\n",
       "                               extracurricular  \n",
       "date                                            \n",
       "1970-01-01 00:00:00.000000016             True  \n",
       "1970-01-01 00:00:00.000000017            False  \n",
       "1970-01-01 00:00:00.000000016             True  \n",
       "1970-01-01 00:00:00.000000018             True  \n",
       "1970-01-01 00:00:00.000000017            False  \n",
       "1970-01-01 00:00:00.000000016             True  \n",
       "1970-01-01 00:00:00.000000018            False  "
      ]
     },
     "execution_count": 97,
     "metadata": {},
     "output_type": "execute_result"
    }
   ],
   "source": [
    "df.drop_duplicates()"
   ]
  },
  {
   "cell_type": "markdown",
   "id": "05d48f03-5d24-47ee-8ddb-92ec24fdc151",
   "metadata": {},
   "source": [
    "# interpolate missing values"
   ]
  },
  {
   "cell_type": "code",
   "execution_count": 45,
   "id": "00688ded-782f-4fa7-8c71-f54baaf87f93",
   "metadata": {},
   "outputs": [
    {
     "name": "stderr",
     "output_type": "stream",
     "text": [
      "C:\\Users\\chaka\\AppData\\Local\\Temp\\ipykernel_20916\\4002874584.py:1: FutureWarning: DataFrame.interpolate with object dtype is deprecated and will raise in a future version. Call obj.infer_objects(copy=False) before interpolating instead.\n",
      "  df.interpolate()\n"
     ]
    },
    {
     "data": {
      "text/html": [
       "<div>\n",
       "<style scoped>\n",
       "    .dataframe tbody tr th:only-of-type {\n",
       "        vertical-align: middle;\n",
       "    }\n",
       "\n",
       "    .dataframe tbody tr th {\n",
       "        vertical-align: top;\n",
       "    }\n",
       "\n",
       "    .dataframe thead th {\n",
       "        text-align: right;\n",
       "    }\n",
       "</style>\n",
       "<table border=\"1\" class=\"dataframe\">\n",
       "  <thead>\n",
       "    <tr style=\"text-align: right;\">\n",
       "      <th></th>\n",
       "      <th>id</th>\n",
       "      <th>first_name</th>\n",
       "      <th>last_name</th>\n",
       "      <th>age</th>\n",
       "      <th>grade</th>\n",
       "      <th>GPA</th>\n",
       "      <th>extracurricular</th>\n",
       "    </tr>\n",
       "  </thead>\n",
       "  <tbody>\n",
       "    <tr>\n",
       "      <th>0</th>\n",
       "      <td>101</td>\n",
       "      <td>Aarav</td>\n",
       "      <td>Singh</td>\n",
       "      <td>16</td>\n",
       "      <td>10</td>\n",
       "      <td>8.5</td>\n",
       "      <td>True</td>\n",
       "    </tr>\n",
       "    <tr>\n",
       "      <th>1</th>\n",
       "      <td>102</td>\n",
       "      <td>Meera</td>\n",
       "      <td>Patel</td>\n",
       "      <td>17</td>\n",
       "      <td>11</td>\n",
       "      <td>9.1</td>\n",
       "      <td>False</td>\n",
       "    </tr>\n",
       "    <tr>\n",
       "      <th>2</th>\n",
       "      <td>103</td>\n",
       "      <td>Rohan</td>\n",
       "      <td>Verma</td>\n",
       "      <td>16</td>\n",
       "      <td>10</td>\n",
       "      <td>7.8</td>\n",
       "      <td>True</td>\n",
       "    </tr>\n",
       "    <tr>\n",
       "      <th>3</th>\n",
       "      <td>104</td>\n",
       "      <td>Sana</td>\n",
       "      <td>Reddy</td>\n",
       "      <td>18</td>\n",
       "      <td>12</td>\n",
       "      <td>8.9</td>\n",
       "      <td>True</td>\n",
       "    </tr>\n",
       "    <tr>\n",
       "      <th>4</th>\n",
       "      <td>105</td>\n",
       "      <td>Kabir</td>\n",
       "      <td>Sharma</td>\n",
       "      <td>17</td>\n",
       "      <td>11</td>\n",
       "      <td>8.2</td>\n",
       "      <td>False</td>\n",
       "    </tr>\n",
       "    <tr>\n",
       "      <th>5</th>\n",
       "      <td>106</td>\n",
       "      <td>Priya</td>\n",
       "      <td>Nair</td>\n",
       "      <td>16</td>\n",
       "      <td>10</td>\n",
       "      <td>9.3</td>\n",
       "      <td>True</td>\n",
       "    </tr>\n",
       "    <tr>\n",
       "      <th>6</th>\n",
       "      <td>107</td>\n",
       "      <td>Aditya</td>\n",
       "      <td>Gupta</td>\n",
       "      <td>18</td>\n",
       "      <td>12</td>\n",
       "      <td>7.5</td>\n",
       "      <td>False</td>\n",
       "    </tr>\n",
       "  </tbody>\n",
       "</table>\n",
       "</div>"
      ],
      "text/plain": [
       "    id first_name last_name  age  grade  GPA  extracurricular\n",
       "0  101      Aarav     Singh   16     10  8.5             True\n",
       "1  102      Meera     Patel   17     11  9.1            False\n",
       "2  103      Rohan     Verma   16     10  7.8             True\n",
       "3  104       Sana     Reddy   18     12  8.9             True\n",
       "4  105      Kabir    Sharma   17     11  8.2            False\n",
       "5  106      Priya      Nair   16     10  9.3             True\n",
       "6  107     Aditya     Gupta   18     12  7.5            False"
      ]
     },
     "execution_count": 45,
     "metadata": {},
     "output_type": "execute_result"
    }
   ],
   "source": [
    "df.interpolate()"
   ]
  },
  {
   "cell_type": "markdown",
   "id": "f8dde143-54c7-4ab3-8ced-f9e32367eb40",
   "metadata": {},
   "source": [
    "# changing datatypes"
   ]
  },
  {
   "cell_type": "code",
   "execution_count": 98,
   "id": "58b6006b-907f-4f4e-855a-fcbe9fb0bf79",
   "metadata": {},
   "outputs": [
    {
     "data": {
      "text/plain": [
       "date\n",
       "1970-01-01 00:00:00.000000016    8\n",
       "1970-01-01 00:00:00.000000017    9\n",
       "1970-01-01 00:00:00.000000016    7\n",
       "1970-01-01 00:00:00.000000018    8\n",
       "1970-01-01 00:00:00.000000017    8\n",
       "1970-01-01 00:00:00.000000016    9\n",
       "1970-01-01 00:00:00.000000018    7\n",
       "Name: GPA, dtype: int64"
      ]
     },
     "execution_count": 98,
     "metadata": {},
     "output_type": "execute_result"
    }
   ],
   "source": [
    "df['GPA'].astype(int)"
   ]
  },
  {
   "cell_type": "markdown",
   "id": "c6508faf-188c-4fea-814a-e867690a72f5",
   "metadata": {},
   "source": [
    "# Grouping and aggregations "
   ]
  },
  {
   "cell_type": "markdown",
   "id": "58f26d31-7acb-46de-a20d-e101a695acc7",
   "metadata": {},
   "source": [
    "# group by a column and calculate mean "
   ]
  },
  {
   "cell_type": "code",
   "execution_count": 52,
   "id": "10df37e8-e193-4029-b6dd-3d8ee7edf53e",
   "metadata": {},
   "outputs": [
    {
     "data": {
      "text/html": [
       "<div>\n",
       "<style scoped>\n",
       "    .dataframe tbody tr th:only-of-type {\n",
       "        vertical-align: middle;\n",
       "    }\n",
       "\n",
       "    .dataframe tbody tr th {\n",
       "        vertical-align: top;\n",
       "    }\n",
       "\n",
       "    .dataframe thead th {\n",
       "        text-align: right;\n",
       "    }\n",
       "</style>\n",
       "<table border=\"1\" class=\"dataframe\">\n",
       "  <thead>\n",
       "    <tr style=\"text-align: right;\">\n",
       "      <th></th>\n",
       "      <th>GPA</th>\n",
       "    </tr>\n",
       "    <tr>\n",
       "      <th>age</th>\n",
       "      <th></th>\n",
       "    </tr>\n",
       "  </thead>\n",
       "  <tbody>\n",
       "    <tr>\n",
       "      <th>16</th>\n",
       "      <td>8.533333</td>\n",
       "    </tr>\n",
       "    <tr>\n",
       "      <th>17</th>\n",
       "      <td>8.650000</td>\n",
       "    </tr>\n",
       "    <tr>\n",
       "      <th>18</th>\n",
       "      <td>8.200000</td>\n",
       "    </tr>\n",
       "  </tbody>\n",
       "</table>\n",
       "</div>"
      ],
      "text/plain": [
       "          GPA\n",
       "age          \n",
       "16   8.533333\n",
       "17   8.650000\n",
       "18   8.200000"
      ]
     },
     "execution_count": 52,
     "metadata": {},
     "output_type": "execute_result"
    }
   ],
   "source": [
    "df.groupby('age')[['GPA']].mean(numeric_only=True)"
   ]
  },
  {
   "cell_type": "markdown",
   "id": "b73cb547-7af1-4f1c-8bb2-9b91b4da0dd5",
   "metadata": {},
   "source": [
    "# group by multiple columns and calculate sum"
   ]
  },
  {
   "cell_type": "code",
   "execution_count": 53,
   "id": "1c0da3a3-422b-4bfe-8938-cc380280eb56",
   "metadata": {},
   "outputs": [
    {
     "data": {
      "text/html": [
       "<div>\n",
       "<style scoped>\n",
       "    .dataframe tbody tr th:only-of-type {\n",
       "        vertical-align: middle;\n",
       "    }\n",
       "\n",
       "    .dataframe tbody tr th {\n",
       "        vertical-align: top;\n",
       "    }\n",
       "\n",
       "    .dataframe thead th {\n",
       "        text-align: right;\n",
       "    }\n",
       "</style>\n",
       "<table border=\"1\" class=\"dataframe\">\n",
       "  <thead>\n",
       "    <tr style=\"text-align: right;\">\n",
       "      <th></th>\n",
       "      <th>GPA</th>\n",
       "      <th>grade</th>\n",
       "    </tr>\n",
       "    <tr>\n",
       "      <th>age</th>\n",
       "      <th></th>\n",
       "      <th></th>\n",
       "    </tr>\n",
       "  </thead>\n",
       "  <tbody>\n",
       "    <tr>\n",
       "      <th>16</th>\n",
       "      <td>25.6</td>\n",
       "      <td>30</td>\n",
       "    </tr>\n",
       "    <tr>\n",
       "      <th>17</th>\n",
       "      <td>17.3</td>\n",
       "      <td>22</td>\n",
       "    </tr>\n",
       "    <tr>\n",
       "      <th>18</th>\n",
       "      <td>16.4</td>\n",
       "      <td>24</td>\n",
       "    </tr>\n",
       "  </tbody>\n",
       "</table>\n",
       "</div>"
      ],
      "text/plain": [
       "      GPA  grade\n",
       "age             \n",
       "16   25.6     30\n",
       "17   17.3     22\n",
       "18   16.4     24"
      ]
     },
     "execution_count": 53,
     "metadata": {},
     "output_type": "execute_result"
    }
   ],
   "source": [
    "df.groupby('age')[['GPA','grade']].sum(numeric_only=True)"
   ]
  },
  {
   "cell_type": "markdown",
   "id": "de478eb8-4e27-41b6-a085-1c7a1f8020ab",
   "metadata": {},
   "source": [
    "# Aggregationwith multiple fun"
   ]
  },
  {
   "cell_type": "code",
   "execution_count": 56,
   "id": "90a1844d-c46a-459b-bc96-138c251d74aa",
   "metadata": {},
   "outputs": [
    {
     "data": {
      "text/html": [
       "<div>\n",
       "<style scoped>\n",
       "    .dataframe tbody tr th:only-of-type {\n",
       "        vertical-align: middle;\n",
       "    }\n",
       "\n",
       "    .dataframe tbody tr th {\n",
       "        vertical-align: top;\n",
       "    }\n",
       "\n",
       "    .dataframe thead tr th {\n",
       "        text-align: left;\n",
       "    }\n",
       "\n",
       "    .dataframe thead tr:last-of-type th {\n",
       "        text-align: right;\n",
       "    }\n",
       "</style>\n",
       "<table border=\"1\" class=\"dataframe\">\n",
       "  <thead>\n",
       "    <tr>\n",
       "      <th></th>\n",
       "      <th colspan=\"2\" halign=\"left\">GPA</th>\n",
       "      <th colspan=\"2\" halign=\"left\">grade</th>\n",
       "    </tr>\n",
       "    <tr>\n",
       "      <th></th>\n",
       "      <th>mean</th>\n",
       "      <th>sum</th>\n",
       "      <th>mean</th>\n",
       "      <th>sum</th>\n",
       "    </tr>\n",
       "    <tr>\n",
       "      <th>age</th>\n",
       "      <th></th>\n",
       "      <th></th>\n",
       "      <th></th>\n",
       "      <th></th>\n",
       "    </tr>\n",
       "  </thead>\n",
       "  <tbody>\n",
       "    <tr>\n",
       "      <th>16</th>\n",
       "      <td>8.533333</td>\n",
       "      <td>25.6</td>\n",
       "      <td>10.0</td>\n",
       "      <td>30</td>\n",
       "    </tr>\n",
       "    <tr>\n",
       "      <th>17</th>\n",
       "      <td>8.650000</td>\n",
       "      <td>17.3</td>\n",
       "      <td>11.0</td>\n",
       "      <td>22</td>\n",
       "    </tr>\n",
       "    <tr>\n",
       "      <th>18</th>\n",
       "      <td>8.200000</td>\n",
       "      <td>16.4</td>\n",
       "      <td>12.0</td>\n",
       "      <td>24</td>\n",
       "    </tr>\n",
       "  </tbody>\n",
       "</table>\n",
       "</div>"
      ],
      "text/plain": [
       "          GPA       grade    \n",
       "         mean   sum  mean sum\n",
       "age                          \n",
       "16   8.533333  25.6  10.0  30\n",
       "17   8.650000  17.3  11.0  22\n",
       "18   8.200000  16.4  12.0  24"
      ]
     },
     "execution_count": 56,
     "metadata": {},
     "output_type": "execute_result"
    }
   ],
   "source": [
    "df.groupby('age')[['GPA','grade']].agg(['mean','sum'])"
   ]
  },
  {
   "cell_type": "markdown",
   "id": "0303927e-71f5-4369-9b2a-fca414defd6f",
   "metadata": {},
   "source": [
    "# pivot table\n",
    "#A pivot table is a tool for reorganizing, summarizing, and analyzing large datasets by grouping data into meaningful categories and applying aggregate functions like sum, mean, count, min/max, etc. It doesn't modify the original data—just offers different perspectives by \"pivoting\" rows into columns and vice versa"
   ]
  },
  {
   "cell_type": "code",
   "execution_count": 58,
   "id": "d0cb2dae-4c3b-407b-8fdf-6ba00ed25a36",
   "metadata": {},
   "outputs": [
    {
     "data": {
      "text/html": [
       "<div>\n",
       "<style scoped>\n",
       "    .dataframe tbody tr th:only-of-type {\n",
       "        vertical-align: middle;\n",
       "    }\n",
       "\n",
       "    .dataframe tbody tr th {\n",
       "        vertical-align: top;\n",
       "    }\n",
       "\n",
       "    .dataframe thead th {\n",
       "        text-align: right;\n",
       "    }\n",
       "</style>\n",
       "<table border=\"1\" class=\"dataframe\">\n",
       "  <thead>\n",
       "    <tr style=\"text-align: right;\">\n",
       "      <th></th>\n",
       "      <th>age</th>\n",
       "      <th>16</th>\n",
       "      <th>17</th>\n",
       "      <th>18</th>\n",
       "    </tr>\n",
       "    <tr>\n",
       "      <th>GPA</th>\n",
       "      <th>grade</th>\n",
       "      <th></th>\n",
       "      <th></th>\n",
       "      <th></th>\n",
       "    </tr>\n",
       "  </thead>\n",
       "  <tbody>\n",
       "    <tr>\n",
       "      <th>7.5</th>\n",
       "      <th>12</th>\n",
       "      <td>NaN</td>\n",
       "      <td>NaN</td>\n",
       "      <td>107.0</td>\n",
       "    </tr>\n",
       "    <tr>\n",
       "      <th>7.8</th>\n",
       "      <th>10</th>\n",
       "      <td>103.0</td>\n",
       "      <td>NaN</td>\n",
       "      <td>NaN</td>\n",
       "    </tr>\n",
       "    <tr>\n",
       "      <th>8.2</th>\n",
       "      <th>11</th>\n",
       "      <td>NaN</td>\n",
       "      <td>105.0</td>\n",
       "      <td>NaN</td>\n",
       "    </tr>\n",
       "    <tr>\n",
       "      <th>8.5</th>\n",
       "      <th>10</th>\n",
       "      <td>101.0</td>\n",
       "      <td>NaN</td>\n",
       "      <td>NaN</td>\n",
       "    </tr>\n",
       "    <tr>\n",
       "      <th>8.9</th>\n",
       "      <th>12</th>\n",
       "      <td>NaN</td>\n",
       "      <td>NaN</td>\n",
       "      <td>104.0</td>\n",
       "    </tr>\n",
       "    <tr>\n",
       "      <th>9.1</th>\n",
       "      <th>11</th>\n",
       "      <td>NaN</td>\n",
       "      <td>102.0</td>\n",
       "      <td>NaN</td>\n",
       "    </tr>\n",
       "    <tr>\n",
       "      <th>9.3</th>\n",
       "      <th>10</th>\n",
       "      <td>106.0</td>\n",
       "      <td>NaN</td>\n",
       "      <td>NaN</td>\n",
       "    </tr>\n",
       "  </tbody>\n",
       "</table>\n",
       "</div>"
      ],
      "text/plain": [
       "age           16     17     18\n",
       "GPA grade                     \n",
       "7.5 12       NaN    NaN  107.0\n",
       "7.8 10     103.0    NaN    NaN\n",
       "8.2 11       NaN  105.0    NaN\n",
       "8.5 10     101.0    NaN    NaN\n",
       "8.9 12       NaN    NaN  104.0\n",
       "9.1 11       NaN  102.0    NaN\n",
       "9.3 10     106.0    NaN    NaN"
      ]
     },
     "execution_count": 58,
     "metadata": {},
     "output_type": "execute_result"
    }
   ],
   "source": [
    "pd.pivot_table(df,values='id',index=['GPA','grade'],columns='age')\n"
   ]
  },
  {
   "cell_type": "markdown",
   "id": "9302f2a6-d620-446c-b254-62994c31c861",
   "metadata": {},
   "source": [
    "# Data Manipulation "
   ]
  },
  {
   "cell_type": "markdown",
   "id": "ba83aa56-081d-4a72-8bd0-76688cf587cd",
   "metadata": {},
   "source": [
    "# adding a new column"
   ]
  },
  {
   "cell_type": "code",
   "execution_count": 61,
   "id": "4a2cae62-cd19-4081-acee-d3b0693949fe",
   "metadata": {},
   "outputs": [],
   "source": [
    "df['ph']=[123,345,567,789,908,101,343]"
   ]
  },
  {
   "cell_type": "markdown",
   "id": "1d34abfd-fd91-4d65-9979-2b713a69efbe",
   "metadata": {},
   "source": [
    "# deleting a new column "
   ]
  },
  {
   "cell_type": "code",
   "execution_count": 100,
   "id": "f8880ae9-4866-4674-ac2f-39cb89b9a7b8",
   "metadata": {},
   "outputs": [
    {
     "ename": "KeyError",
     "evalue": "'age'",
     "output_type": "error",
     "traceback": [
      "\u001b[31m---------------------------------------------------------------------------\u001b[39m",
      "\u001b[31mKeyError\u001b[39m                                  Traceback (most recent call last)",
      "\u001b[36mFile \u001b[39m\u001b[32m~\\AppData\\Local\\Programs\\Python\\Python313\\Lib\\site-packages\\pandas\\core\\indexes\\base.py:3812\u001b[39m, in \u001b[36mIndex.get_loc\u001b[39m\u001b[34m(self, key)\u001b[39m\n\u001b[32m   3811\u001b[39m \u001b[38;5;28;01mtry\u001b[39;00m:\n\u001b[32m-> \u001b[39m\u001b[32m3812\u001b[39m     \u001b[38;5;28;01mreturn\u001b[39;00m \u001b[38;5;28;43mself\u001b[39;49m\u001b[43m.\u001b[49m\u001b[43m_engine\u001b[49m\u001b[43m.\u001b[49m\u001b[43mget_loc\u001b[49m\u001b[43m(\u001b[49m\u001b[43mcasted_key\u001b[49m\u001b[43m)\u001b[49m\n\u001b[32m   3813\u001b[39m \u001b[38;5;28;01mexcept\u001b[39;00m \u001b[38;5;167;01mKeyError\u001b[39;00m \u001b[38;5;28;01mas\u001b[39;00m err:\n",
      "\u001b[36mFile \u001b[39m\u001b[32mpandas/_libs/index.pyx:167\u001b[39m, in \u001b[36mpandas._libs.index.IndexEngine.get_loc\u001b[39m\u001b[34m()\u001b[39m\n",
      "\u001b[36mFile \u001b[39m\u001b[32mpandas/_libs/index.pyx:196\u001b[39m, in \u001b[36mpandas._libs.index.IndexEngine.get_loc\u001b[39m\u001b[34m()\u001b[39m\n",
      "\u001b[36mFile \u001b[39m\u001b[32mpandas/_libs/hashtable_class_helper.pxi:7088\u001b[39m, in \u001b[36mpandas._libs.hashtable.PyObjectHashTable.get_item\u001b[39m\u001b[34m()\u001b[39m\n",
      "\u001b[36mFile \u001b[39m\u001b[32mpandas/_libs/hashtable_class_helper.pxi:7096\u001b[39m, in \u001b[36mpandas._libs.hashtable.PyObjectHashTable.get_item\u001b[39m\u001b[34m()\u001b[39m\n",
      "\u001b[31mKeyError\u001b[39m: 'age'",
      "\nThe above exception was the direct cause of the following exception:\n",
      "\u001b[31mKeyError\u001b[39m                                  Traceback (most recent call last)",
      "\u001b[36mCell\u001b[39m\u001b[36m \u001b[39m\u001b[32mIn[100]\u001b[39m\u001b[32m, line 1\u001b[39m\n\u001b[32m----> \u001b[39m\u001b[32m1\u001b[39m \u001b[38;5;28;01mdel\u001b[39;00m \u001b[43mdf\u001b[49m\u001b[43m[\u001b[49m\u001b[33;43m'\u001b[39;49m\u001b[33;43mage\u001b[39;49m\u001b[33;43m'\u001b[39;49m\u001b[43m]\u001b[49m\n",
      "\u001b[36mFile \u001b[39m\u001b[32m~\\AppData\\Local\\Programs\\Python\\Python313\\Lib\\site-packages\\pandas\\core\\generic.py:4525\u001b[39m, in \u001b[36mNDFrame.__delitem__\u001b[39m\u001b[34m(self, key)\u001b[39m\n\u001b[32m   4520\u001b[39m             deleted = \u001b[38;5;28;01mTrue\u001b[39;00m\n\u001b[32m   4521\u001b[39m \u001b[38;5;28;01mif\u001b[39;00m \u001b[38;5;129;01mnot\u001b[39;00m deleted:\n\u001b[32m   4522\u001b[39m     \u001b[38;5;66;03m# If the above loop ran and didn't delete anything because\u001b[39;00m\n\u001b[32m   4523\u001b[39m     \u001b[38;5;66;03m# there was no match, this call should raise the appropriate\u001b[39;00m\n\u001b[32m   4524\u001b[39m     \u001b[38;5;66;03m# exception:\u001b[39;00m\n\u001b[32m-> \u001b[39m\u001b[32m4525\u001b[39m     loc = \u001b[38;5;28;43mself\u001b[39;49m\u001b[43m.\u001b[49m\u001b[43maxes\u001b[49m\u001b[43m[\u001b[49m\u001b[43m-\u001b[49m\u001b[32;43m1\u001b[39;49m\u001b[43m]\u001b[49m\u001b[43m.\u001b[49m\u001b[43mget_loc\u001b[49m\u001b[43m(\u001b[49m\u001b[43mkey\u001b[49m\u001b[43m)\u001b[49m\n\u001b[32m   4526\u001b[39m     \u001b[38;5;28mself\u001b[39m._mgr = \u001b[38;5;28mself\u001b[39m._mgr.idelete(loc)\n\u001b[32m   4528\u001b[39m \u001b[38;5;66;03m# delete from the caches\u001b[39;00m\n",
      "\u001b[36mFile \u001b[39m\u001b[32m~\\AppData\\Local\\Programs\\Python\\Python313\\Lib\\site-packages\\pandas\\core\\indexes\\base.py:3819\u001b[39m, in \u001b[36mIndex.get_loc\u001b[39m\u001b[34m(self, key)\u001b[39m\n\u001b[32m   3814\u001b[39m     \u001b[38;5;28;01mif\u001b[39;00m \u001b[38;5;28misinstance\u001b[39m(casted_key, \u001b[38;5;28mslice\u001b[39m) \u001b[38;5;129;01mor\u001b[39;00m (\n\u001b[32m   3815\u001b[39m         \u001b[38;5;28misinstance\u001b[39m(casted_key, abc.Iterable)\n\u001b[32m   3816\u001b[39m         \u001b[38;5;129;01mand\u001b[39;00m \u001b[38;5;28many\u001b[39m(\u001b[38;5;28misinstance\u001b[39m(x, \u001b[38;5;28mslice\u001b[39m) \u001b[38;5;28;01mfor\u001b[39;00m x \u001b[38;5;129;01min\u001b[39;00m casted_key)\n\u001b[32m   3817\u001b[39m     ):\n\u001b[32m   3818\u001b[39m         \u001b[38;5;28;01mraise\u001b[39;00m InvalidIndexError(key)\n\u001b[32m-> \u001b[39m\u001b[32m3819\u001b[39m     \u001b[38;5;28;01mraise\u001b[39;00m \u001b[38;5;167;01mKeyError\u001b[39;00m(key) \u001b[38;5;28;01mfrom\u001b[39;00m\u001b[38;5;250m \u001b[39m\u001b[34;01merr\u001b[39;00m\n\u001b[32m   3820\u001b[39m \u001b[38;5;28;01mexcept\u001b[39;00m \u001b[38;5;167;01mTypeError\u001b[39;00m:\n\u001b[32m   3821\u001b[39m     \u001b[38;5;66;03m# If we have a listlike key, _check_indexing_error will raise\u001b[39;00m\n\u001b[32m   3822\u001b[39m     \u001b[38;5;66;03m#  InvalidIndexError. Otherwise we fall through and re-raise\u001b[39;00m\n\u001b[32m   3823\u001b[39m     \u001b[38;5;66;03m#  the TypeError.\u001b[39;00m\n\u001b[32m   3824\u001b[39m     \u001b[38;5;28mself\u001b[39m._check_indexing_error(key)\n",
      "\u001b[31mKeyError\u001b[39m: 'age'"
     ]
    }
   ],
   "source": [
    "del df['age']"
   ]
  },
  {
   "cell_type": "markdown",
   "id": "cc67bc2b-98f5-44e2-a18a-cb36e09c6dc0",
   "metadata": {},
   "source": [
    "# renaming column"
   ]
  },
  {
   "cell_type": "code",
   "execution_count": 62,
   "id": "2341eda8-69de-4219-95d4-7d43bf2e9962",
   "metadata": {},
   "outputs": [],
   "source": [
    "df.rename(columns={'ph':'ph_no'},inplace=True)\n"
   ]
  },
  {
   "cell_type": "markdown",
   "id": "756faf17-d2a8-459e-b666-f3893b142aee",
   "metadata": {},
   "source": [
    "# sorting by column"
   ]
  },
  {
   "cell_type": "code",
   "execution_count": 65,
   "id": "18488dba-88be-424a-9d8e-9d734a64fc96",
   "metadata": {},
   "outputs": [
    {
     "data": {
      "text/html": [
       "<div>\n",
       "<style scoped>\n",
       "    .dataframe tbody tr th:only-of-type {\n",
       "        vertical-align: middle;\n",
       "    }\n",
       "\n",
       "    .dataframe tbody tr th {\n",
       "        vertical-align: top;\n",
       "    }\n",
       "\n",
       "    .dataframe thead th {\n",
       "        text-align: right;\n",
       "    }\n",
       "</style>\n",
       "<table border=\"1\" class=\"dataframe\">\n",
       "  <thead>\n",
       "    <tr style=\"text-align: right;\">\n",
       "      <th></th>\n",
       "      <th>id</th>\n",
       "      <th>first_name</th>\n",
       "      <th>last_name</th>\n",
       "      <th>age</th>\n",
       "      <th>grade</th>\n",
       "      <th>GPA</th>\n",
       "      <th>extracurricular</th>\n",
       "      <th>ph_no</th>\n",
       "    </tr>\n",
       "  </thead>\n",
       "  <tbody>\n",
       "    <tr>\n",
       "      <th>3</th>\n",
       "      <td>104</td>\n",
       "      <td>Sana</td>\n",
       "      <td>Reddy</td>\n",
       "      <td>18</td>\n",
       "      <td>12</td>\n",
       "      <td>8.9</td>\n",
       "      <td>True</td>\n",
       "      <td>789</td>\n",
       "    </tr>\n",
       "    <tr>\n",
       "      <th>6</th>\n",
       "      <td>107</td>\n",
       "      <td>Aditya</td>\n",
       "      <td>Gupta</td>\n",
       "      <td>18</td>\n",
       "      <td>12</td>\n",
       "      <td>7.5</td>\n",
       "      <td>False</td>\n",
       "      <td>343</td>\n",
       "    </tr>\n",
       "    <tr>\n",
       "      <th>1</th>\n",
       "      <td>102</td>\n",
       "      <td>Meera</td>\n",
       "      <td>Patel</td>\n",
       "      <td>17</td>\n",
       "      <td>11</td>\n",
       "      <td>9.1</td>\n",
       "      <td>False</td>\n",
       "      <td>345</td>\n",
       "    </tr>\n",
       "    <tr>\n",
       "      <th>4</th>\n",
       "      <td>105</td>\n",
       "      <td>Kabir</td>\n",
       "      <td>Sharma</td>\n",
       "      <td>17</td>\n",
       "      <td>11</td>\n",
       "      <td>8.2</td>\n",
       "      <td>False</td>\n",
       "      <td>908</td>\n",
       "    </tr>\n",
       "    <tr>\n",
       "      <th>0</th>\n",
       "      <td>101</td>\n",
       "      <td>Aarav</td>\n",
       "      <td>Singh</td>\n",
       "      <td>16</td>\n",
       "      <td>10</td>\n",
       "      <td>8.5</td>\n",
       "      <td>True</td>\n",
       "      <td>123</td>\n",
       "    </tr>\n",
       "    <tr>\n",
       "      <th>2</th>\n",
       "      <td>103</td>\n",
       "      <td>Rohan</td>\n",
       "      <td>Verma</td>\n",
       "      <td>16</td>\n",
       "      <td>10</td>\n",
       "      <td>7.8</td>\n",
       "      <td>True</td>\n",
       "      <td>567</td>\n",
       "    </tr>\n",
       "    <tr>\n",
       "      <th>5</th>\n",
       "      <td>106</td>\n",
       "      <td>Priya</td>\n",
       "      <td>Nair</td>\n",
       "      <td>16</td>\n",
       "      <td>10</td>\n",
       "      <td>9.3</td>\n",
       "      <td>True</td>\n",
       "      <td>101</td>\n",
       "    </tr>\n",
       "  </tbody>\n",
       "</table>\n",
       "</div>"
      ],
      "text/plain": [
       "    id first_name last_name  age  grade  GPA  extracurricular  ph_no\n",
       "3  104       Sana     Reddy   18     12  8.9             True    789\n",
       "6  107     Aditya     Gupta   18     12  7.5            False    343\n",
       "1  102      Meera     Patel   17     11  9.1            False    345\n",
       "4  105      Kabir    Sharma   17     11  8.2            False    908\n",
       "0  101      Aarav     Singh   16     10  8.5             True    123\n",
       "2  103      Rohan     Verma   16     10  7.8             True    567\n",
       "5  106      Priya      Nair   16     10  9.3             True    101"
      ]
     },
     "execution_count": 65,
     "metadata": {},
     "output_type": "execute_result"
    }
   ],
   "source": [
    "df.sort_values(by='age',ascending=False)"
   ]
  },
  {
   "cell_type": "code",
   "execution_count": null,
   "id": "04ce4935-3426-4a96-8c4a-601011690451",
   "metadata": {},
   "outputs": [],
   "source": [
    "# Drop a column and use axis=1,which means column=1 in pandas"
   ]
  },
  {
   "cell_type": "code",
   "execution_count": 67,
   "id": "b266f900-c6ea-48bb-8986-96f28e6d990a",
   "metadata": {},
   "outputs": [],
   "source": [
    "df.drop('ph_no',axis=1,inplace=True)"
   ]
  },
  {
   "cell_type": "markdown",
   "id": "2e3eb0a1-a248-482f-afc6-275b076876f2",
   "metadata": {},
   "source": [
    "# concatenating dataframes "
   ]
  },
  {
   "cell_type": "code",
   "execution_count": 72,
   "id": "5de5ec7e-640a-4f96-b39b-4f428b6f6499",
   "metadata": {},
   "outputs": [],
   "source": [
    "data={'name':['latha'],'age':21}\n",
    "df1=pd.DataFrame(data)"
   ]
  },
  {
   "cell_type": "code",
   "execution_count": 73,
   "id": "2e0e3214-e4e1-459f-bbf1-4e3e9173606a",
   "metadata": {},
   "outputs": [],
   "source": [
    "newdf=pd.concat([df,df1])"
   ]
  },
  {
   "cell_type": "code",
   "execution_count": 77,
   "id": "82bcccbb-d774-4105-95ad-30357f57121f",
   "metadata": {},
   "outputs": [
    {
     "data": {
      "text/html": [
       "<div>\n",
       "<style scoped>\n",
       "    .dataframe tbody tr th:only-of-type {\n",
       "        vertical-align: middle;\n",
       "    }\n",
       "\n",
       "    .dataframe tbody tr th {\n",
       "        vertical-align: top;\n",
       "    }\n",
       "\n",
       "    .dataframe thead th {\n",
       "        text-align: right;\n",
       "    }\n",
       "</style>\n",
       "<table border=\"1\" class=\"dataframe\">\n",
       "  <thead>\n",
       "    <tr style=\"text-align: right;\">\n",
       "      <th></th>\n",
       "      <th>id</th>\n",
       "      <th>first_name</th>\n",
       "      <th>last_name</th>\n",
       "      <th>age</th>\n",
       "      <th>grade</th>\n",
       "      <th>GPA</th>\n",
       "      <th>extracurricular</th>\n",
       "      <th>name</th>\n",
       "    </tr>\n",
       "  </thead>\n",
       "  <tbody>\n",
       "    <tr>\n",
       "      <th>0</th>\n",
       "      <td>101.0</td>\n",
       "      <td>Aarav</td>\n",
       "      <td>Singh</td>\n",
       "      <td>16</td>\n",
       "      <td>10.0</td>\n",
       "      <td>8.5</td>\n",
       "      <td>True</td>\n",
       "      <td>NaN</td>\n",
       "    </tr>\n",
       "    <tr>\n",
       "      <th>1</th>\n",
       "      <td>102.0</td>\n",
       "      <td>Meera</td>\n",
       "      <td>Patel</td>\n",
       "      <td>17</td>\n",
       "      <td>11.0</td>\n",
       "      <td>9.1</td>\n",
       "      <td>False</td>\n",
       "      <td>NaN</td>\n",
       "    </tr>\n",
       "    <tr>\n",
       "      <th>2</th>\n",
       "      <td>103.0</td>\n",
       "      <td>Rohan</td>\n",
       "      <td>Verma</td>\n",
       "      <td>16</td>\n",
       "      <td>10.0</td>\n",
       "      <td>7.8</td>\n",
       "      <td>True</td>\n",
       "      <td>NaN</td>\n",
       "    </tr>\n",
       "    <tr>\n",
       "      <th>3</th>\n",
       "      <td>104.0</td>\n",
       "      <td>Sana</td>\n",
       "      <td>Reddy</td>\n",
       "      <td>18</td>\n",
       "      <td>12.0</td>\n",
       "      <td>8.9</td>\n",
       "      <td>True</td>\n",
       "      <td>NaN</td>\n",
       "    </tr>\n",
       "    <tr>\n",
       "      <th>4</th>\n",
       "      <td>105.0</td>\n",
       "      <td>Kabir</td>\n",
       "      <td>Sharma</td>\n",
       "      <td>17</td>\n",
       "      <td>11.0</td>\n",
       "      <td>8.2</td>\n",
       "      <td>False</td>\n",
       "      <td>NaN</td>\n",
       "    </tr>\n",
       "    <tr>\n",
       "      <th>5</th>\n",
       "      <td>106.0</td>\n",
       "      <td>Priya</td>\n",
       "      <td>Nair</td>\n",
       "      <td>16</td>\n",
       "      <td>10.0</td>\n",
       "      <td>9.3</td>\n",
       "      <td>True</td>\n",
       "      <td>NaN</td>\n",
       "    </tr>\n",
       "    <tr>\n",
       "      <th>6</th>\n",
       "      <td>107.0</td>\n",
       "      <td>Aditya</td>\n",
       "      <td>Gupta</td>\n",
       "      <td>18</td>\n",
       "      <td>12.0</td>\n",
       "      <td>7.5</td>\n",
       "      <td>False</td>\n",
       "      <td>NaN</td>\n",
       "    </tr>\n",
       "    <tr>\n",
       "      <th>0</th>\n",
       "      <td>NaN</td>\n",
       "      <td>NaN</td>\n",
       "      <td>NaN</td>\n",
       "      <td>21</td>\n",
       "      <td>NaN</td>\n",
       "      <td>NaN</td>\n",
       "      <td>NaN</td>\n",
       "      <td>latha</td>\n",
       "    </tr>\n",
       "  </tbody>\n",
       "</table>\n",
       "</div>"
      ],
      "text/plain": [
       "      id first_name last_name  age  grade  GPA extracurricular   name\n",
       "0  101.0      Aarav     Singh   16   10.0  8.5            True    NaN\n",
       "1  102.0      Meera     Patel   17   11.0  9.1           False    NaN\n",
       "2  103.0      Rohan     Verma   16   10.0  7.8            True    NaN\n",
       "3  104.0       Sana     Reddy   18   12.0  8.9            True    NaN\n",
       "4  105.0      Kabir    Sharma   17   11.0  8.2           False    NaN\n",
       "5  106.0      Priya      Nair   16   10.0  9.3            True    NaN\n",
       "6  107.0     Aditya     Gupta   18   12.0  7.5           False    NaN\n",
       "0    NaN        NaN       NaN   21    NaN  NaN             NaN  latha"
      ]
     },
     "execution_count": 77,
     "metadata": {},
     "output_type": "execute_result"
    }
   ],
   "source": [
    "newdf.head(8)"
   ]
  },
  {
   "cell_type": "markdown",
   "id": "5612189e-3516-4975-95f3-09a340fd3317",
   "metadata": {},
   "source": [
    "# Time series operations"
   ]
  },
  {
   "cell_type": "markdown",
   "id": "1f578462-b23e-4c66-8848-7284070eb029",
   "metadata": {},
   "source": [
    "# convert a column to datetime"
   ]
  },
  {
   "cell_type": "code",
   "execution_count": 83,
   "id": "23c5746c-5445-4f52-a8dd-e0140edafaf4",
   "metadata": {},
   "outputs": [],
   "source": [
    "df['date']=pd.to_datetime(df['age'])"
   ]
  },
  {
   "cell_type": "markdown",
   "id": "f93bcae7-5e7e-43ce-a58b-d500d4001540",
   "metadata": {},
   "source": [
    "# set datetime column as index"
   ]
  },
  {
   "cell_type": "code",
   "execution_count": 85,
   "id": "85e0e310-2b18-459d-8cde-292235d7d1e4",
   "metadata": {},
   "outputs": [],
   "source": [
    "df.set_index('date',inplace=True)"
   ]
  },
  {
   "cell_type": "code",
   "execution_count": null,
   "id": "cf12a7cb-fa71-4d30-9761-1e92550b5aaf",
   "metadata": {},
   "outputs": [],
   "source": [
    "# resampling time series data ,here D -means,datawise ,we have M(month),W(weekly)"
   ]
  },
  {
   "cell_type": "code",
   "execution_count": 93,
   "id": "2acc6e92-a069-43e0-b60c-725cc88db29c",
   "metadata": {},
   "outputs": [
    {
     "data": {
      "text/html": [
       "<div>\n",
       "<style scoped>\n",
       "    .dataframe tbody tr th:only-of-type {\n",
       "        vertical-align: middle;\n",
       "    }\n",
       "\n",
       "    .dataframe tbody tr th {\n",
       "        vertical-align: top;\n",
       "    }\n",
       "\n",
       "    .dataframe thead th {\n",
       "        text-align: right;\n",
       "    }\n",
       "</style>\n",
       "<table border=\"1\" class=\"dataframe\">\n",
       "  <thead>\n",
       "    <tr style=\"text-align: right;\">\n",
       "      <th></th>\n",
       "      <th>id</th>\n",
       "      <th>age</th>\n",
       "      <th>grade</th>\n",
       "      <th>GPA</th>\n",
       "      <th>extracurricular</th>\n",
       "    </tr>\n",
       "    <tr>\n",
       "      <th>date</th>\n",
       "      <th></th>\n",
       "      <th></th>\n",
       "      <th></th>\n",
       "      <th></th>\n",
       "      <th></th>\n",
       "    </tr>\n",
       "  </thead>\n",
       "  <tbody>\n",
       "    <tr>\n",
       "      <th>1970-01-01</th>\n",
       "      <td>104.0</td>\n",
       "      <td>16.857143</td>\n",
       "      <td>10.857143</td>\n",
       "      <td>8.471429</td>\n",
       "      <td>0.571429</td>\n",
       "    </tr>\n",
       "  </tbody>\n",
       "</table>\n",
       "</div>"
      ],
      "text/plain": [
       "               id        age      grade       GPA  extracurricular\n",
       "date                                                              \n",
       "1970-01-01  104.0  16.857143  10.857143  8.471429         0.571429"
      ]
     },
     "execution_count": 93,
     "metadata": {},
     "output_type": "execute_result"
    }
   ],
   "source": [
    "df.resample('D').mean(numeric_only=True)"
   ]
  },
  {
   "cell_type": "code",
   "execution_count": null,
   "id": "94813747-4837-4d67-85f7-30b1d58255e4",
   "metadata": {},
   "outputs": [],
   "source": []
  }
 ],
 "metadata": {
  "kernelspec": {
   "display_name": "Python 3 (ipykernel)",
   "language": "python",
   "name": "python3"
  },
  "language_info": {
   "codemirror_mode": {
    "name": "ipython",
    "version": 3
   },
   "file_extension": ".py",
   "mimetype": "text/x-python",
   "name": "python",
   "nbconvert_exporter": "python",
   "pygments_lexer": "ipython3",
   "version": "3.13.3"
  }
 },
 "nbformat": 4,
 "nbformat_minor": 5
}
